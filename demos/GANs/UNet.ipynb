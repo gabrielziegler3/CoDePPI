{
 "cells": [
  {
   "cell_type": "code",
   "execution_count": 1,
   "metadata": {
    "scrolled": false
   },
   "outputs": [
    {
     "name": "stdout",
     "output_type": "stream",
     "text": [
      "Random Seed:  42\n"
     ]
    },
    {
     "data": {
      "text/plain": [
       "<torch._C.Generator at 0x7f2209f7ef70>"
      ]
     },
     "execution_count": 1,
     "metadata": {},
     "output_type": "execute_result"
    }
   ],
   "source": [
    "import os\n",
    "import torch\n",
    "import torchvision as tv\n",
    "import h5py\n",
    "import numpy as np\n",
    "import torch\n",
    "import fastmri\n",
    "import random\n",
    "import sys\n",
    "import torchvision\n",
    "import pytorch_lightning as pl\n",
    "\n",
    "sys.path.append('../../src/')\n",
    "from helpers import calculate_metrics\n",
    "\n",
    "from pathlib import Path\n",
    "from torch import nn\n",
    "from torch import optim\n",
    "from torchvision.datasets import ImageFolder\n",
    "from torchvision import transforms\n",
    "from torch.utils import data\n",
    "from torch.utils.tensorboard import SummaryWriter\n",
    "from PIL import Image\n",
    "from IPython.core.interactiveshell import InteractiveShell\n",
    "InteractiveShell.ast_node_interactivity = \"all\"\n",
    "\n",
    "# try:\n",
    "#     print(torch.cuda.get_device_name())\n",
    "#     print(torch.cuda.get_device_properties(0))\n",
    "# except:\n",
    "#     print(\"No GPUs configured\")\n",
    "    \n",
    "manualSeed = 42\n",
    "#manualSeed = random.randint(1, 10000) # use if you want new results\n",
    "print(\"Random Seed: \", manualSeed)\n",
    "random.seed(manualSeed)\n",
    "torch.manual_seed(manualSeed)"
   ]
  },
  {
   "cell_type": "markdown",
   "metadata": {},
   "source": [
    "# PyTorch Dataset"
   ]
  },
  {
   "cell_type": "code",
   "execution_count": 53,
   "metadata": {
    "scrolled": true
   },
   "outputs": [
    {
     "data": {
      "text/plain": [
       "PosixPath('/mri-reconstruction/mnt/FastMRI/knee')"
      ]
     },
     "execution_count": 53,
     "metadata": {},
     "output_type": "execute_result"
    }
   ],
   "source": [
    "from fastmri.data.mri_data import fetch_dir\n",
    "\n",
    "path_config = Path(\"../../fastmri_dirs.yaml\")\n",
    "\n",
    "dataroot = fetch_dir(\"knee_path\", path_config)\n",
    "test_path = Path(\"../../mnt/FastMRI/\")\n",
    "dataroot"
   ]
  },
  {
   "cell_type": "markdown",
   "metadata": {},
   "source": [
    "# Check for truncated files "
   ]
  },
  {
   "cell_type": "code",
   "execution_count": 76,
   "metadata": {},
   "outputs": [],
   "source": [
    "import os\n",
    "\n",
    "for i in dataroot.glob(\"**/*.h5\"):\n",
    "    try:\n",
    "        hf = h5py.File(i, mode='r')\n",
    "    except:\n",
    "        print(\"Truncated: \", i)\n",
    "#         os.remove(\"{}\".format(i))"
   ]
  },
  {
   "cell_type": "code",
   "execution_count": 73,
   "metadata": {},
   "outputs": [],
   "source": [
    "from fastmri.pl_modules import FastMriDataModule, UnetModule\n",
    "from fastmri.data.transforms import UnetDataTransform\n",
    "from fastmri.data.subsample import create_mask_for_mask_type\n",
    "\n",
    "# singlecoil or multicoil\n",
    "challenge = \"singlecoil\"\n",
    "# MASK_TYPE is either random (for knee) or equispaced (for brain)\n",
    "mask_type = \"random\"\n",
    "center_fractions = [0.08]\n",
    "accelerations = [4]\n",
    "\n",
    "mask = create_mask_for_mask_type(\n",
    "    mask_type, center_fractions, accelerations\n",
    ")\n",
    "\n",
    "train_transform = UnetDataTransform(challenge, mask_func=mask, use_seed=False)\n",
    "val_transform = UnetDataTransform(challenge, mask_func=mask)\n",
    "test_transform = UnetDataTransform(challenge)\n",
    "    \n",
    "data_module = FastMriDataModule(\n",
    "    data_path=dataroot,\n",
    "    challenge=challenge,\n",
    "    train_transform=train_transform,\n",
    "    val_transform=val_transform,\n",
    "    test_transform=test_transform,\n",
    "    test_path=test_path\n",
    ")"
   ]
  },
  {
   "cell_type": "markdown",
   "metadata": {},
   "source": [
    "# UNet Model"
   ]
  },
  {
   "cell_type": "code",
   "execution_count": 74,
   "metadata": {},
   "outputs": [],
   "source": [
    "model = UnetModule(\n",
    "    in_chans=1,  # number of input channels to U-Net\n",
    "    out_chans=1,  # number of output chanenls to U-Net\n",
    "    chans=32,  # number of top-level U-Net channels\n",
    "    num_pool_layers=4,  # number of U-Net pooling layers\n",
    "    drop_prob=0.0,  # dropout probability\n",
    "    lr=0.001,  # RMSProp learning rate\n",
    "    lr_step_size=40,  # epoch at which to decrease learning rate\n",
    "    lr_gamma=0.1,  # extent to which to decrease learning rate\n",
    "    weight_decay=0.0,  # weight decay regularization strength\n",
    ")"
   ]
  },
  {
   "cell_type": "markdown",
   "metadata": {},
   "source": [
    "# Train model"
   ]
  },
  {
   "cell_type": "code",
   "execution_count": 78,
   "metadata": {
    "scrolled": false
   },
   "outputs": [
    {
     "name": "stderr",
     "output_type": "stream",
     "text": [
      "GPU available: False, used: False\n",
      "INFO:lightning:GPU available: False, used: False\n",
      "TPU available: None, using: 0 TPU cores\n",
      "INFO:lightning:TPU available: None, using: 0 TPU cores\n",
      "\n",
      "  | Name             | Type                 | Params\n",
      "----------------------------------------------------------\n",
      "0 | NMSE             | DistributedMetricSum | 0     \n",
      "1 | SSIM             | DistributedMetricSum | 0     \n",
      "2 | PSNR             | DistributedMetricSum | 0     \n",
      "3 | ValLoss          | DistributedMetricSum | 0     \n",
      "4 | TotExamples      | DistributedMetricSum | 0     \n",
      "5 | TotSliceExamples | DistributedMetricSum | 0     \n",
      "6 | unet             | Unet                 | 7.8 M \n",
      "----------------------------------------------------------\n",
      "7.8 M     Trainable params\n",
      "0         Non-trainable params\n",
      "7.8 M     Total params\n",
      "31.024    Total estimated model params size (MB)\n",
      "INFO:lightning:\n",
      "  | Name             | Type                 | Params\n",
      "----------------------------------------------------------\n",
      "0 | NMSE             | DistributedMetricSum | 0     \n",
      "1 | SSIM             | DistributedMetricSum | 0     \n",
      "2 | PSNR             | DistributedMetricSum | 0     \n",
      "3 | ValLoss          | DistributedMetricSum | 0     \n",
      "4 | TotExamples      | DistributedMetricSum | 0     \n",
      "5 | TotSliceExamples | DistributedMetricSum | 0     \n",
      "6 | unet             | Unet                 | 7.8 M \n",
      "----------------------------------------------------------\n",
      "7.8 M     Trainable params\n",
      "0         Non-trainable params\n",
      "7.8 M     Total params\n",
      "31.024    Total estimated model params size (MB)\n"
     ]
    },
    {
     "data": {
      "application/vnd.jupyter.widget-view+json": {
       "model_id": "",
       "version_major": 2,
       "version_minor": 0
      },
      "text/plain": [
       "HBox(children=(FloatProgress(value=1.0, bar_style='info', description='Validation sanity check', layout=Layout…"
      ]
     },
     "metadata": {},
     "output_type": "display_data"
    },
    {
     "data": {
      "application/vnd.jupyter.widget-view+json": {
       "model_id": "05f95abecee640e482693461ebe8b559",
       "version_major": 2,
       "version_minor": 0
      },
      "text/plain": [
       "HBox(children=(FloatProgress(value=1.0, bar_style='info', description='Training', layout=Layout(flex='2'), max…"
      ]
     },
     "metadata": {},
     "output_type": "display_data"
    },
    {
     "name": "stdout",
     "output_type": "stream",
     "text": [
      "\n"
     ]
    },
    {
     "name": "stderr",
     "output_type": "stream",
     "text": [
      "/opt/conda/lib/python3.8/site-packages/pytorch_lightning/utilities/distributed.py:50: UserWarning: Detected KeyboardInterrupt, attempting graceful shutdown...\n",
      "  warnings.warn(*args, **kwargs)\n"
     ]
    },
    {
     "data": {
      "text/plain": [
       "1"
      ]
     },
     "execution_count": 78,
     "metadata": {},
     "output_type": "execute_result"
    }
   ],
   "source": [
    "trainer = pl.Trainer()\n",
    "trainer.fit(model, datamodule=data_module)"
   ]
  }
 ],
 "metadata": {
  "kernelspec": {
   "display_name": "Python 3",
   "language": "python",
   "name": "python3"
  },
  "language_info": {
   "codemirror_mode": {
    "name": "ipython",
    "version": 3
   },
   "file_extension": ".py",
   "mimetype": "text/x-python",
   "name": "python",
   "nbconvert_exporter": "python",
   "pygments_lexer": "ipython3",
   "version": "3.8.5"
  }
 },
 "nbformat": 4,
 "nbformat_minor": 4
}
